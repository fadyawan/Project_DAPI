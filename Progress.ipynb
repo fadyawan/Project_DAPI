{
 "cells": [
  {
   "cell_type": "markdown",
   "id": "b55bf69c",
   "metadata": {},
   "source": [
    "## About The Project\n",
    "About the project </br>\n",
    "<p>This project comprises of three programs which are made from python. They all produce the same result but through different processes, by utilising different functions and theories. </p>\n",
    "<p>Version 1 uses a for loop inside a for loop, it uses a flag to mark a number as a prime number or otherwise. \n",
    "<p>Version 2 is very similar to the first version, however, it doesn't use a flag and instead uses a more memory saving method by replacing the flag with a simple selection statement. </p>\n",
    "<p>Version 3 uses another method, it checks if a number is divisible by all of the prime numbers before it, this method has been mathematically proven to always prove a number is a prime, it uses less memory and has a faster time complexity since it doesn't go through every number in a list and only the primes.</p>\n",
    "<p>Version 4 utilises the version 3 of the finding the prime number function and adds another function to add a GUI.</p>"
   ]
  },
  {
   "cell_type": "markdown",
   "id": "c6064a0f",
   "metadata": {},
   "source": [
    "The first version."
   ]
  },
  {
   "cell_type": "code",
   "execution_count": 3,
   "id": "60b365f1",
   "metadata": {},
   "outputs": [
    {
     "name": "stdout",
     "output_type": "stream",
     "text": [
      "2\n",
      "3\n",
      "5\n",
      "7\n",
      "11\n",
      "13\n",
      "17\n",
      "19\n",
      "23\n",
      "29\n",
      "31\n",
      "37\n",
      "41\n",
      "43\n",
      "47\n",
      "53\n",
      "59\n",
      "61\n",
      "67\n",
      "71\n",
      "73\n",
      "79\n",
      "83\n",
      "89\n",
      "97\n"
     ]
    }
   ],
   "source": [
    "# More memory used, same time complexity\n",
    "for x in range (0, 101):        # To iterate through every single number from 0 to 100.\n",
    "  if x >= 2:                    # Checking if a number is above 2 since 2 is the first prime number.\n",
    "    prime = True                # Setting boolean flag called prime to true, this makes our assumption that the number we are checking is a prime number.\n",
    "    for y in range(2, x):       # Setting a divisor from two, because dividing by 0 is 0, and dividing by 1 doesn't return any of the values.\n",
    "      if (x % y) == 0:          # Modulus function to check the remainder of the division, if it is 0, that means it is divisible by a number other than itself or one.\n",
    "          prime = False         # Since the number is now proven to not be a prime number, we can set the flag as false.\n",
    "          break                 # Leaving the if statement and iterating to the next x value.\n",
    "    if prime == True:           # If prime is still true because the if statement above doesn't break, we can print x since we know it is a prime number.\n",
    "      print(x)                  # Printing x"
   ]
  },
  {
   "cell_type": "markdown",
   "id": "6f809008",
   "metadata": {},
   "source": [
    "The second version."
   ]
  },
  {
   "cell_type": "code",
   "execution_count": 2,
   "id": "c1a4b7f6",
   "metadata": {},
   "outputs": [
    {
     "name": "stdout",
     "output_type": "stream",
     "text": [
      "2\n",
      "3\n",
      "5\n",
      "7\n",
      "11\n",
      "13\n",
      "17\n",
      "19\n",
      "23\n",
      "29\n",
      "31\n",
      "37\n",
      "41\n",
      "43\n",
      "47\n",
      "53\n",
      "59\n",
      "61\n",
      "67\n",
      "71\n",
      "73\n",
      "79\n",
      "83\n",
      "89\n",
      "97\n"
     ]
    }
   ],
   "source": [
    "# Less memory used, same time complexity\n",
    "for x in range (0, 101):                    # To iterate through every single number from 0 to 100.\n",
    "    if x >= 2:                              # Checking if a number is above 2 since 2 is the first prime number.\n",
    "        for y in range(2, x):               # Setting a divisor from two, because dividing by 0 is 0, and dividing by 1 doesn't return any of the values.\n",
    "            if (x % y) == 0:                # Modulus function to check the remainder of the division, if it is 0, that means it is divisible by a number other than itself or one.\n",
    "                break                       # Leaving the if statement and iterating to the next x value.\n",
    "        else:                               # Else statement for when the conditions of a not prime number are not met, therefore we know it is a prime number.\n",
    "            print(x)                        # Printing x"
   ]
  },
  {
   "cell_type": "markdown",
   "id": "a423d124",
   "metadata": {},
   "source": [
    "The third version."
   ]
  },
  {
   "cell_type": "code",
   "execution_count": 4,
   "id": "16e3e916",
   "metadata": {},
   "outputs": [
    {
     "name": "stdout",
     "output_type": "stream",
     "text": [
      "[2, 3, 5, 7, 11, 13, 17, 19, 23, 29, 31, 37, 41, 43, 47, 53, 59, 61, 67, 71, 73, 79, 83, 89, 97]\n"
     ]
    }
   ],
   "source": [
    "# o(n^2), practically it will still be faster, because we n times in the y loop.\n",
    "l2 = []                             # Creating a list to store found prime numbers.\n",
    "for x in range(0, 101):             # To iterate through every single number from 0 to 100.\n",
    "  if x >= 2:                        # Checking if a number is above 2 since 2 is the first prime number.\n",
    "    for y in l2:                    # Selecting a divisor from the list of prime numbers\n",
    "      if (x % y) == 0:              # Modulus function to check the remainder of the division, if it is 0, that means it is divisible by a number other than itself or one.\n",
    "        break                       # Leaving the if statement and iterating to the next x value.\n",
    "    else:                           # Else statement for when the conditions of a not prime number are not met, therefore we know it is a prime number.\n",
    "      l2.append(x)                  # So we append it onto the list.\n",
    "print(l2)                           # Printing the list l2."
   ]
  },
  {
   "cell_type": "markdown",
   "id": "8af9a578",
   "metadata": {},
   "source": [
    "The last version."
   ]
  },
  {
   "cell_type": "code",
   "execution_count": 6,
   "id": "8751a34f",
   "metadata": {},
   "outputs": [
    {
     "name": "stdout",
     "output_type": "stream",
     "text": [
      "[2, 3, 5, 7, 11, 13, 17, 19, 23, 29, 31, 37, 41, 43, 47, 53, 59, 61, 67, 71, 73, 79, 83, 89, 97]\n",
      "[2, 3, 5, 7, 11, 13, 17, 19, 23, 29, 31, 37, 41, 43, 47, 53, 59, 61, 67, 71, 73, 79, 83, 89, 97]\n"
     ]
    }
   ],
   "source": [
    "# with UI\n",
    "from tkinter import *\n",
    "\n",
    "# Generating the list of prime numbers\n",
    "def prime_number_list():\n",
    "  l2 = []                               # Creating a list to store found prime numbers.\n",
    "  for x in range(0, 101):               # To iterate through every single number from 0 to 100.\n",
    "    if x >= 2:                          # Checking if a number is above 2 since 2 is the first prime number.\n",
    "      for y in l2:                      # Selecting a divisor from the list of prime numbers\n",
    "        if (x % y) == 0:                # Modulus function to check the remainder of the division, if it is 0, that means it is divisible by a number other than itself or one.\n",
    "          break                         # Leaving the if statement and iterating to the next x value.\n",
    "      else:                             # Else statement for when the conditions of a not prime number are not met, therefore we know it is a prime number.\n",
    "        l2.append(x)                    # So we append it onto the list.\n",
    "  print(l2)                             # Printing the list l2.\n",
    "  return l2                             # Returning the list so that there is a result when the function is executed.\n",
    "\n",
    "# The main function to start the UI and initialise the Tkinter Frame for the User to use.\n",
    "def main(master):\n",
    "  frame = LabelFrame(master, padx = 3, pady = 3)  # Variables to create the Frame to hold all the buttons and labels inside the master Tkinter container.\n",
    "  list1 = prime_number_list()\n",
    "  print(list1)\n",
    "  text = Label(frame, text = \"The prime numbers are below,\")\n",
    "  text.pack()\n",
    "  frame.pack(fill = BOTH, expand = 1)\n",
    "\n",
    "  for i in range(len(list1)):\n",
    "    Label(frame, text = list1[i]).pack()\n",
    "  \n",
    "master = Tk()                           # \"master\" is the variable to initialise the use of tkinter in the python program.\n",
    "master.attributes(\"-fullscreen\", True)  # This line makes the window fullscreen.\n",
    "main(master)                            # Launches the function main, in other words launches the program."
   ]
  }
 ],
 "metadata": {
  "kernelspec": {
   "display_name": "Python 3",
   "language": "python",
   "name": "python3"
  },
  "language_info": {
   "codemirror_mode": {
    "name": "ipython",
    "version": 3
   },
   "file_extension": ".py",
   "mimetype": "text/x-python",
   "name": "python",
   "nbconvert_exporter": "python",
   "pygments_lexer": "ipython3",
   "version": "3.8.5"
  }
 },
 "nbformat": 4,
 "nbformat_minor": 5
}
